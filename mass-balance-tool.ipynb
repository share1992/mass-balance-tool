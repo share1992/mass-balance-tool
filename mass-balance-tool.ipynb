{
 "cells": [
  {
   "cell_type": "markdown",
   "metadata": {},
   "source": [
    "## Mass Balance Tool"
   ]
  },
  {
   "cell_type": "code",
   "execution_count": 64,
   "metadata": {},
   "outputs": [
    {
     "name": "stdout",
     "output_type": "stream",
     "text": [
      "Collecting package metadata (current_repodata.json): done\n",
      "Solving environment: done\n",
      "\n",
      "# All requested packages already installed.\n",
      "\n",
      "Collecting package metadata (current_repodata.json): done\n",
      "Solving environment: done\n",
      "\n",
      "# All requested packages already installed.\n",
      "\n"
     ]
    }
   ],
   "source": [
    "# Install a conda package in the current Jupyter kernel\n",
    "import sys\n",
    "!conda install --yes --prefix {sys.prefix} periodictable\n",
    "!conda install --yes --prefix {sys.prefix} pubchempy"
   ]
  },
  {
   "cell_type": "code",
   "execution_count": 65,
   "metadata": {},
   "outputs": [],
   "source": [
    "import periodictable as pt\n",
    "import pubchempy as pcp\n",
    "import numpy as np\n",
    "import pandas as pd\n",
    "import re"
   ]
  },
  {
   "cell_type": "code",
   "execution_count": 66,
   "metadata": {},
   "outputs": [],
   "source": [
    "# raw_EDS_data is a string with the full path to the csv containing the raw data from EDS\n",
    "raw_EDS_data_path = '/Users/ec18006/github_repos/mass-balance-tool/Raw-EDS-Data.csv'"
   ]
  },
  {
   "cell_type": "code",
   "execution_count": 67,
   "metadata": {},
   "outputs": [
    {
     "name": "stdout",
     "output_type": "stream",
     "text": [
      "        001 Unnamed: 1 Unnamed: 2 Unnamed: 3 Unnamed: 4 Unnamed: 5 Unnamed: 6\n",
      "0   Formula      mass%      Atom%      Sigma        Net    K ratio       Line\n",
      "1         C       7.66      56.28       0.04      11738  0.0602071          K\n",
      "2         O       5.42      29.93       0.04       8068  0.0455136          K\n",
      "3        Al       0.18        0.6       0.01        896  0.0009698          K\n",
      "4        Si       0.27       0.84       0.01       1480  0.0017827          K\n",
      "..      ...        ...        ...        ...        ...        ...        ...\n",
      "69       Cl       0.21       0.32       0.01       1317  0.0021795          K\n",
      "70      Cu*       0.07       0.06       0.01         89  0.0005901          K\n",
      "71       Sn       3.91       1.78       0.03      12078  0.0318764          L\n",
      "72       Ba       2.82       1.11       0.03       6560   0.023085          L\n",
      "73    Total      31.45        100        NaN        NaN        NaN        NaN\n",
      "\n",
      "[74 rows x 7 columns]\n"
     ]
    }
   ],
   "source": [
    "# Quick check of what the raw EDS data looks like\n",
    "raw_EDS_df = pd.read_csv(raw_EDS_data_path, header=1)\n",
    "print(raw_EDS_df)"
   ]
  },
  {
   "cell_type": "code",
   "execution_count": 68,
   "metadata": {},
   "outputs": [],
   "source": [
    "def process_raw_data(raw_data_path):\n",
    "    raw_df = pd.read_csv(raw_data_path, header=1)\n",
    "\n",
    "    dfs = np.split(raw_df, np.flatnonzero(raw_df['001'] == 'Formula')[1:])\n",
    "\n",
    "    new_dfs= []\n",
    "    for df in dfs:\n",
    "        headers = df.iloc[0]\n",
    "        new_df  = pd.DataFrame(df.values[1:], columns=headers)\n",
    "        drop_index = int(np.flatnonzero(new_df['Formula'] == 'Total')[0:]) + 1\n",
    "\n",
    "        if len(new_df) > drop_index:\n",
    "            rows_to_drop = len(new_df) - drop_index\n",
    "            for i in range(rows_to_drop):\n",
    "                new_df.drop(new_df.index.to_list()[drop_index], inplace=True)\n",
    "        new_dfs.append(new_df)\n",
    "\n",
    "    return new_dfs"
   ]
  },
  {
   "cell_type": "code",
   "execution_count": 69,
   "metadata": {},
   "outputs": [
    {
     "name": "stdout",
     "output_type": "stream",
     "text": [
      "37 Formula  mass%  Atom% Sigma    Net    K ratio Line\n",
      "0        C   6.73  54.65  0.03  12191  0.0625313    K\n",
      "1        O   5.16  31.48  0.03   8539  0.0481695    K\n",
      "2      Al*   0.03   0.11  0.01    153  0.0001658    K\n",
      "3       Si   0.13   0.44  0.01    711  0.0008563    K\n",
      "4        S   0.19   0.57  0.01   1189  0.0018717    K\n",
      "5      Cl*   0.06   0.16  0.01    388  0.0006423    K\n",
      "6      Fe*   0.02   0.04  0.01     51  0.0002082    K\n",
      "7      Cu*   0.14   0.21  0.02    188  0.0012458    K\n",
      "8       Sn  14.18  11.65  0.06  46574  0.1229145    L\n",
      "9      Ba*   0.95   0.68  0.03   2088  0.0073491    L\n",
      "10   Total  27.59    100   NaN    NaN        NaN  NaN\n"
     ]
    }
   ],
   "source": [
    "new_dfs = process_raw_data(raw_EDS_data_path)\n",
    "print(new_dfs[3])\n",
    "\n",
    "# asterisk means dad added this element manually. Add column saying whether element was automatically detected or not"
   ]
  },
  {
   "cell_type": "code",
   "execution_count": 70,
   "metadata": {},
   "outputs": [],
   "source": [
    "def interpret_chemical_formula(formula):\n",
    "    \"\"\" Takes as input a string corresponding to a chemical formula. Returns a list of the elements that chemical formula is comprised of. \n",
    "    \"\"\"\n",
    "    # element_name is: capital letter followed by optional lower-case\n",
    "    # count is: empty string (so the count is 1), or a set of digits\n",
    "    element_pat = re.compile(\"([A-Z][a-z]?)(\\d*)\")\n",
    "\n",
    "    all_elements = []\n",
    "    for (element_name, count) in element_pat.findall(formula):\n",
    "        if count == \"\":\n",
    "            count = 1\n",
    "        else:\n",
    "            count = int(count)\n",
    "        all_elements.extend([element_name] * count)\n",
    "\n",
    "    return all_elements"
   ]
  },
  {
   "cell_type": "code",
   "execution_count": 76,
   "metadata": {},
   "outputs": [
    {
     "name": "stdout",
     "output_type": "stream",
     "text": [
      "44.0095\n",
      "28.053160000000005\n",
      "16.04246\n",
      "101.96127599999998\n"
     ]
    }
   ],
   "source": [
    "# Compound database\n",
    "\n",
    "compound_list = [\"CO2\", \"C2H4\", \"CH4\", \"Al2O3\"]\n",
    "\n",
    "# Deconstruct compounds into atoms \n",
    "def calculate_total_mass(compound):\n",
    "    atom_list = interpret_chemical_formula(compound)\n",
    "    \n",
    "    total_mass = 0\n",
    "    for el in atom_list:\n",
    "        mass = pt.elements.symbol(el).mass\n",
    "        total_mass += mass\n",
    "    \n",
    "    return total_mass\n",
    "\n",
    "for compound in compound_list:\n",
    "    mass = calculate_total_mass(compound)\n",
    "    print(mass)"
   ]
  },
  {
   "cell_type": "code",
   "execution_count": 77,
   "metadata": {},
   "outputs": [],
   "source": [
    "# Testing PubChemPy database\n",
    "df1 = pcp.get_compounds('C20H41Br', 'formula', as_dataframe=True)    \n",
    "df2 = pcp.get_substances([1, 2, 3, 4], as_dataframe=True)\n",
    "p = pcp.get_properties('IsomericSMILES', 'CC', 'smiles', searchtype='superstructure')"
   ]
  },
  {
   "cell_type": "code",
   "execution_count": 73,
   "metadata": {},
   "outputs": [],
   "source": [
    "# Have cell that checks that atom% always adds to 100. Throw error if not\n",
    "\n",
    "# Have cell that is able to subtract spectrum from reference \n",
    "\n",
    "# Figure out best database to use. PubChem? https://pubchempy.readthedocs.io/en/latest/\n",
    "# Pull out compounds that matter from database and create sub-database"
   ]
  }
 ],
 "metadata": {
  "kernelspec": {
   "display_name": "Python 3",
   "language": "python",
   "name": "python3"
  },
  "language_info": {
   "codemirror_mode": {
    "name": "ipython",
    "version": 3
   },
   "file_extension": ".py",
   "mimetype": "text/x-python",
   "name": "python",
   "nbconvert_exporter": "python",
   "pygments_lexer": "ipython3",
   "version": "3.7.7"
  }
 },
 "nbformat": 4,
 "nbformat_minor": 4
}
