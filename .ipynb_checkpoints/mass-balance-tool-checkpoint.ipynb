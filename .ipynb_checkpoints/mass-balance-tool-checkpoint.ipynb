{
 "cells": [
  {
   "cell_type": "markdown",
   "metadata": {},
   "source": [
    "## Mass Balance Tool"
   ]
  },
  {
   "cell_type": "code",
   "execution_count": 64,
   "metadata": {},
   "outputs": [
    {
     "name": "stdout",
     "output_type": "stream",
     "text": [
      "Collecting package metadata (current_repodata.json): done\n",
      "Solving environment: done\n",
      "\n",
      "# All requested packages already installed.\n",
      "\n",
      "Collecting package metadata (current_repodata.json): done\n",
      "Solving environment: done\n",
      "\n",
      "# All requested packages already installed.\n",
      "\n"
     ]
    }
   ],
   "source": [
    "# Install a conda package in the current Jupyter kernel\n",
    "import sys\n",
    "!conda install --yes --prefix {sys.prefix} periodictable\n",
    "!conda install --yes --prefix {sys.prefix} pubchempy"
   ]
  },
  {
   "cell_type": "code",
   "execution_count": 65,
   "metadata": {},
   "outputs": [],
   "source": [
    "import periodictable as pt\n",
    "import pubchempy as pcp\n",
    "import numpy as np\n",
    "import pandas as pd\n",
    "import re"
   ]
  },
  {
   "cell_type": "code",
   "execution_count": 66,
   "metadata": {},
   "outputs": [],
   "source": [
    "# raw_EDS_data is a string with the full path to the csv containing the raw data from EDS\n",
    "raw_EDS_data_path = '/Users/ec18006/github_repos/mass-balance-tool/Raw-EDS-Data.csv'"
   ]
  },
  {
   "cell_type": "code",
   "execution_count": 67,
   "metadata": {},
   "outputs": [
    {
     "name": "stdout",
     "output_type": "stream",
     "text": [
      "        001 Unnamed: 1 Unnamed: 2 Unnamed: 3 Unnamed: 4 Unnamed: 5 Unnamed: 6\n",
      "0   Formula      mass%      Atom%      Sigma        Net    K ratio       Line\n",
      "1         C       7.66      56.28       0.04      11738  0.0602071          K\n",
      "2         O       5.42      29.93       0.04       8068  0.0455136          K\n",
      "3        Al       0.18        0.6       0.01        896  0.0009698          K\n",
      "4        Si       0.27       0.84       0.01       1480  0.0017827          K\n",
      "..      ...        ...        ...        ...        ...        ...        ...\n",
      "69       Cl       0.21       0.32       0.01       1317  0.0021795          K\n",
      "70      Cu*       0.07       0.06       0.01         89  0.0005901          K\n",
      "71       Sn       3.91       1.78       0.03      12078  0.0318764          L\n",
      "72       Ba       2.82       1.11       0.03       6560   0.023085          L\n",
      "73    Total      31.45        100        NaN        NaN        NaN        NaN\n",
      "\n",
      "[74 rows x 7 columns]\n"
     ]
    }
   ],
   "source": [
    "# Quick check of what the raw EDS data looks like\n",
    "raw_EDS_df = pd.read_csv(raw_EDS_data_path, header=1)\n",
    "print(raw_EDS_df)"
   ]
  },
  {
   "cell_type": "code",
   "execution_count": 68,
   "metadata": {},
   "outputs": [],
   "source": [
    "def process_raw_data(raw_data_path):\n",
    "    raw_df = pd.read_csv(raw_data_path, header=1)\n",
    "\n",
    "    dfs = np.split(raw_df, np.flatnonzero(raw_df['001'] == 'Formula')[1:])\n",
    "\n",
    "    new_dfs= []\n",
    "    for df in dfs:\n",
    "        headers = df.iloc[0]\n",
    "        new_df  = pd.DataFrame(df.values[1:], columns=headers)\n",
    "        drop_index = int(np.flatnonzero(new_df['Formula'] == 'Total')[0:]) + 1\n",
    "\n",
    "        if len(new_df) > drop_index:\n",
    "            rows_to_drop = len(new_df) - drop_index\n",
    "            for i in range(rows_to_drop):\n",
    "                new_df.drop(new_df.index.to_list()[drop_index], inplace=True)\n",
    "        new_dfs.append(new_df)\n",
    "\n",
    "    return new_dfs"
   ]
  },
  {
   "cell_type": "code",
   "execution_count": 69,
   "metadata": {},
   "outputs": [
    {
     "name": "stdout",
     "output_type": "stream",
     "text": [
      "37 Formula  mass%  Atom% Sigma    Net    K ratio Line\n",
      "0        C   6.73  54.65  0.03  12191  0.0625313    K\n",
      "1        O   5.16  31.48  0.03   8539  0.0481695    K\n",
      "2      Al*   0.03   0.11  0.01    153  0.0001658    K\n",
      "3       Si   0.13   0.44  0.01    711  0.0008563    K\n",
      "4        S   0.19   0.57  0.01   1189  0.0018717    K\n",
      "5      Cl*   0.06   0.16  0.01    388  0.0006423    K\n",
      "6      Fe*   0.02   0.04  0.01     51  0.0002082    K\n",
      "7      Cu*   0.14   0.21  0.02    188  0.0012458    K\n",
      "8       Sn  14.18  11.65  0.06  46574  0.1229145    L\n",
      "9      Ba*   0.95   0.68  0.03   2088  0.0073491    L\n",
      "10   Total  27.59    100   NaN    NaN        NaN  NaN\n"
     ]
    }
   ],
   "source": [
    "new_dfs = process_raw_data(raw_EDS_data_path)\n",
    "print(new_dfs[3])\n",
    "\n",
    "# asterisk means dad added this element manually. Add column saying whether element was automatically detected or not"
   ]
  },
  {
   "cell_type": "code",
   "execution_count": 70,
   "metadata": {},
   "outputs": [],
   "source": [
    "def interpret_chemical_formula(formula):\n",
    "    \"\"\" Takes as input a string corresponding to a chemical formula. Returns a list of the elements that chemical formula is comprised of. \n",
    "    \"\"\"\n",
    "    # element_name is: capital letter followed by optional lower-case\n",
    "    # count is: empty string (so the count is 1), or a set of digits\n",
    "    element_pat = re.compile(\"([A-Z][a-z]?)(\\d*)\")\n",
    "\n",
    "    all_elements = []\n",
    "    for (element_name, count) in element_pat.findall(formula):\n",
    "        if count == \"\":\n",
    "            count = 1\n",
    "        else:\n",
    "            count = int(count)\n",
    "        all_elements.extend([element_name] * count)\n",
    "\n",
    "    return all_elements"
   ]
  },
  {
   "cell_type": "code",
   "execution_count": 76,
   "metadata": {},
   "outputs": [
    {
     "name": "stdout",
     "output_type": "stream",
     "text": [
      "44.0095\n",
      "28.053160000000005\n",
      "16.04246\n",
      "101.96127599999998\n"
     ]
    }
   ],
   "source": [
    "# Compound database\n",
    "\n",
    "compound_list = [\"CO2\", \"C2H4\", \"CH4\", \"Al2O3\"]\n",
    "\n",
    "# Deconstruct compounds into atoms \n",
    "def calculate_total_mass(compound):\n",
    "    atom_list = interpret_chemical_formula(compound)\n",
    "    \n",
    "    total_mass = 0\n",
    "    for el in atom_list:\n",
    "        mass = pt.elements.symbol(el).mass\n",
    "        total_mass += mass\n",
    "    \n",
    "    return total_mass\n",
    "\n",
    "for compound in compound_list:\n",
    "    mass = calculate_total_mass(compound)\n",
    "    print(mass)"
   ]
  },
  {
   "cell_type": "code",
   "execution_count": 75,
   "metadata": {},
   "outputs": [
    {
     "name": "stdout",
     "output_type": "stream",
     "text": [
      "[{'CID': 297, 'IsomericSMILES': 'C'}, {'CID': 783, 'IsomericSMILES': '[HH]'}, {'CID': 5462310, 'IsomericSMILES': '[C]'}, {'CID': 6324, 'IsomericSMILES': 'CC'}, {'CID': 24824, 'IsomericSMILES': '[3H][3H]'}, {'CID': 24523, 'IsomericSMILES': '[2H][2H]'}, {'CID': 1038, 'IsomericSMILES': '[H+]'}, {'CID': 58838673, 'IsomericSMILES': '[4HH]'}, {'CID': 5362549, 'IsomericSMILES': '[H]'}, {'CID': 167583, 'IsomericSMILES': '[2HH]'}, {'CID': 166653, 'IsomericSMILES': '[H-]'}, {'CID': 15244547, 'IsomericSMILES': '[2H]C([2H])C([2H])[2H]'}, {'CID': 12053198, 'IsomericSMILES': '[2H]C([2H])C([2H])([2H])[2H]'}, {'CID': 10953798, 'IsomericSMILES': '[2H]C([2H])[2H]'}, {'CID': 10866248, 'IsomericSMILES': '[2H]C[2H]'}, {'CID': 5460653, 'IsomericSMILES': '[1H+]'}, {'CID': 5460631, 'IsomericSMILES': '[1HH]'}, {'CID': 3034819, 'IsomericSMILES': '[CH3]'}, {'CID': 644094, 'IsomericSMILES': '[CH3+]'}, {'CID': 138525, 'IsomericSMILES': '[2H]CC'}, {'CID': 137127, 'IsomericSMILES': '[2H]C([2H])([2H])C([2H])([2H])[2H]'}, {'CID': 123164, 'IsomericSMILES': '[CH2]'}, {'CID': 123070, 'IsomericSMILES': '[2H]C([2H])([2H])[2H]'}, {'CID': 114789, 'IsomericSMILES': '[11CH4]'}, {'CID': 105026, 'IsomericSMILES': '[13CH4]'}, {'CID': 12669, 'IsomericSMILES': '[2H]C'}, {'CID': 16070030, 'IsomericSMILES': '[10CH4]'}, {'CID': 12244984, 'IsomericSMILES': '[13CH3][13CH3]'}, {'CID': 12242916, 'IsomericSMILES': '[2H][13C]([2H])([2H])[2H]'}, {'CID': 12053733, 'IsomericSMILES': 'C[13CH3]'}, {'CID': 6914304, 'IsomericSMILES': '[1H][1H]'}, {'CID': 6857428, 'IsomericSMILES': '[2H-]'}, {'CID': 6857427, 'IsomericSMILES': '[3H-]'}, {'CID': 5460634, 'IsomericSMILES': '[2H+]'}, {'CID': 177708, 'IsomericSMILES': '[15CH4]'}, {'CID': 141449, 'IsomericSMILES': '[2H]C([2H])C'}, {'CID': 137287, 'IsomericSMILES': '[2H]C([2H])([2H])C'}, {'CID': 123138, 'IsomericSMILES': 'C[CH2]'}, {'CID': 119434, 'IsomericSMILES': '[3HH]'}, {'CID': 26873, 'IsomericSMILES': '[14CH4]'}, {'CID': 881, 'IsomericSMILES': '[CH3-]'}, {'CID': 10219356, 'IsomericSMILES': '[12CH4]'}, {'CID': 6857429, 'IsomericSMILES': '[1H-]'}, {'CID': 5460635, 'IsomericSMILES': '[2H]'}, {'CID': 5460633, 'IsomericSMILES': '[3H]'}, {'CID': 5460632, 'IsomericSMILES': '[3H+]'}, {'CID': 137438, 'IsomericSMILES': '[2H][C]([2H])[2H]'}, {'CID': 129012201, 'IsomericSMILES': '[HH].[HH].[HH]'}, {'CID': 86607863, 'IsomericSMILES': '[HH].C'}, {'CID': 12244985, 'IsomericSMILES': '[2H]CC[2H]'}, {'CID': 12244983, 'IsomericSMILES': '[2H]CC([2H])([2H])[2H]'}, {'CID': 12242919, 'IsomericSMILES': '[3H]C'}, {'CID': 5460654, 'IsomericSMILES': '[1H]'}, {'CID': 4266598, 'IsomericSMILES': 'C[CH2+]'}, {'CID': 161837064, 'IsomericSMILES': '[3H][3H].[3H]C'}, {'CID': 161837062, 'IsomericSMILES': '[2H][2H].C'}, {'CID': 161837060, 'IsomericSMILES': '[2H][3H].C'}, {'CID': 161837059, 'IsomericSMILES': '[HH].[2H]C([2H])[2H]'}, {'CID': 161837058, 'IsomericSMILES': '[2HH].[2H]C'}, {'CID': 161813399, 'IsomericSMILES': '[3HH].[3H][3H].[3H][3H].[3H][3H].[3H][3H].[3H][3H].[3H][3H].[3H][3H].[3H][3H].[3H][3H].[3H][3H].[3H][3H].[3H][3H].[3H][3H].[3H][3H].[3H][3H].[3H][3H].[3H][3H].[3H][3H].[3H][3H].[3H][3H].[3H][3H].[3H][3H].[3H][3H].[3H][3H].[3H][3H].[3H][3H].[3H][3H].[3H][3H].[3H][3H].[3H][3H].[3H][3H].[3H][3H].[3H][3H].[3H][3H].[3H][3H].[3H][3H].[3H][3H].[3H][3H].[3H][3H].[3H][3H].[3H][3H].[3H][3H].[3H][3H].[3H][3H].[3H][3H].[3H][3H].[3H][3H].[3H][3H].[3H][3H].[3H][3H].[3H][3H].[3H][3H].[3H][3H].[3H][3H].[3H][3H].[3H][3H].[3H][3H].[3H][3H].[3H][3H].[3H][3H].[3H][3H].[3H][3H].[3H][3H].[3H][3H].[3H][3H].[3H][3H].[3H][3H].[3H][3H].[3H][3H].[3H][3H].[3H][3H].[3H][3H].[3H][3H].[3H][3H].[3H][3H].[3H][3H].[3H][3H].[3H][3H].[3H][3H].[3H][3H].[3H][3H].[3H][3H].[3H][3H].[3H][3H].[3H][3H].[3H][3H].[3H][3H].[3H][3H].[3H][3H].[3H][3H].[3H][3H].[3H][3H].[3H][3H].[3H][3H].[3H][3H].[3H][3H].[3H][3H].[3H][3H].[3H][3H].[3H][3H].[3H][3H].[3H][3H].[3H][3H].[3H][3H].[3H][3H].[3H][3H].[3H][3H].[3H][3H].[3H][3H].[3H][3H].[3H][3H].[3H][3H].[3H][3H].[3H][3H].[3H][3H].[3H][3H].[3H][3H].[3H][3H].[3H][3H].[3H][3H].[3H][3H].[3H][3H]'}, {'CID': 161502788, 'IsomericSMILES': '[2HH].[2H-].[H+]'}, {'CID': 161449544, 'IsomericSMILES': '[3HH].[3HH].[3HH].[3HH].[3HH].[3H][3H].[3H][3H].[3H][3H].[3H][3H].[3H][3H].[3H][3H].[3H][3H].[3H][3H].[3H][3H].[3H][3H].[3H][3H].[3H][3H].[3H][3H].[3H][3H].[3H][3H].[3H][3H].[3H][3H].[3H][3H].[3H][3H].[3H][3H].[3H][3H].[3H][3H].[3H][3H].[3H][3H].[3H][3H].[3H][3H].[3H][3H].[3H][3H].[3H][3H].[3H][3H].[3H][3H].[3H][3H].[3H][3H].[3H][3H].[3H][3H].[3H][3H].[3H][3H].[3H][3H].[3H][3H].[3H][3H].[3H][3H].[3H][3H].[3H][3H].[3H][3H].[3H][3H].[3H][3H].[3H][3H].[3H][3H].[3H][3H].[3H][3H].[3H][3H].[3H][3H].[3H][3H].[3H][3H].[3H][3H].[3H][3H].[3H][3H].[3H][3H].[3H][3H].[3H][3H].[3H][3H].[3H][3H].[3H][3H].[3H][3H].[3H][3H].[3H][3H].[3H][3H].[3H][3H].[3H][3H]'}, {'CID': 161213197, 'IsomericSMILES': '[2HH].[2HH].[2HH].[2HH].[2HH].[2HH].[2H][2H].[2H][2H].[2H][2H].[2H][2H].[2H][2H].[2H][2H].[2H][2H].[2H][2H].[2H][2H].[2H][2H].[2H][2H].[2H][2H].[2H][2H].[2H][2H].[2H][2H].[2H][2H].[2H][2H].[2H][2H].[2H][2H].[2H][2H].[2H][2H].[2H][2H].[2H][2H].[2H][2H].[2H][2H].[2H][2H]'}, {'CID': 161169512, 'IsomericSMILES': '[3H][3H].[3H][3H].[3H][3H].[3H][3H].[3H][3H].[3H][3H].[3H][3H].[3H][3H].[3H][3H].[3H][3H].[3H][3H].[3H][3H].[3H][3H].[3H][3H].[3H][3H].[3H][3H].[3H][3H].[3H][3H].[3H][3H].[3H][3H].[3H][3H].[3H][3H].[3H][3H].[3H][3H].[3H][3H].[3H][3H].[3H][3H].[3H][3H].[3H][3H].[3H][3H].[3H][3H].[3H][3H].[3H][3H].[3H][3H].[3H][3H].[3H][3H].[3H][3H].[3H][3H].[3H][3H].[3H][3H].[3H][3H].[3H][3H].[3H][3H].[3H][3H].[3H][3H].[3H][3H].[3H][3H].[3H][3H].[3H][3H].[3H][3H].[3H][3H].[3H][3H].[3H][3H].[3H][3H].[3H][3H].[3H][3H].[3H][3H].[3H][3H].[3H][3H].[3H][3H].[3H][3H].[3H][3H].[3H][3H].[3H][3H].[3H][3H].[3H][3H].[3H][3H].[3H][3H].[3H][3H].[3H][3H].[3H][3H].[3H][3H].[3H][3H].[3H][3H].[3H][3H]'}, {'CID': 161143649, 'IsomericSMILES': '[2HH].[2HH].[2HH].[2HH].[2HH].[2HH].[2HH].[2HH].[3HH].[3H][3H].[3H][3H].[3H][3H].[3H][3H]'}, {'CID': 161118682, 'IsomericSMILES': '[2HH].[2HH].[2HH].[2HH].[2H-].[2H][2H].[2H][2H].[2H][2H].[2H][2H].[2H][2H].[2H][2H].[2H][2H].[2H][2H].[2H][2H].[2H][2H].[2H][2H].[2H][2H].[2H][2H].[2H][2H].[2H][2H].[2H][2H].[2H][2H].[2H][2H].[2H][2H].[2H][2H].[2H][2H].[2H][2H].[2H][2H].[2H][2H].[2H][2H].[2H][2H].[2H][2H].[2H][2H].[2H][2H].[2H][2H].[2H][2H].[2H][2H].[2H][2H].[2H][2H].[2H][2H].[2H][2H].[2H][2H].[2H][2H].[2H][2H].[2H][2H].[2H][2H].[2H][2H].[2H][2H].[2H][2H].[2H][2H].[2H][2H].[2H][2H].[2H][2H].[2H][2H].[2H][2H].[2H][2H].[2H][2H].[2H][2H].[2H][2H].[2H][2H].[2H][2H]'}, {'CID': 161076062, 'IsomericSMILES': '[HH].[H+].[H+]'}, {'CID': 161062469, 'IsomericSMILES': '[2HH].[2H-].[2H+].[2H][2H]'}, {'CID': 160961077, 'IsomericSMILES': '[2HH].[2H-].[2H][2H].[2H][2H].[2H][2H].[2H][2H].[2H][2H].[2H][2H].[2H][2H].[2H][2H].[2H][2H].[2H][2H].[2H][2H].[2H][2H].[2H][2H].[2H][2H].[2H][2H].[2H][2H].[2H][2H].[2H][2H].[2H][2H].[2H][2H].[2H][2H].[2H][2H].[2H][2H].[2H][2H].[2H][2H].[2H][2H].[2H][2H].[2H][2H].[2H][2H].[2H][2H].[2H][2H].[2H][2H].[2H][2H].[2H][2H].[2H][2H].[2H][2H].[2H][2H].[2H][2H].[2H][2H].[2H][2H].[2H][2H].[2H][2H].[2H][2H].[2H][2H].[2H][2H]'}, {'CID': 160764853, 'IsomericSMILES': '[3HH].[3HH].[3HH].[3HH].[3HH].[3HH].[3HH].[3HH].[3HH].[3HH].[3HH].[3HH].[3HH].[3HH].[3HH].[3HH].[3HH].[3HH].[3HH].[3HH].[3HH].[3HH].[3HH].[3HH].[3HH].[3HH].[3HH].[3HH].[3H][3H].[3H][3H].[3H][3H].[3H][3H].[3H][3H].[3H][3H].[3H][3H].[3H][3H].[3H][3H].[3H][3H].[3H][3H].[3H][3H].[3H][3H].[3H][3H].[3H][3H].[3H][3H].[3H][3H].[3H][3H].[3H][3H].[3H][3H].[3H][3H].[3H][3H].[3H][3H].[3H][3H].[3H][3H].[3H][3H].[3H][3H].[3H][3H].[3H][3H].[3H][3H].[3H][3H].[3H][3H].[3H][3H].[3H][3H].[3H][3H].[3H][3H].[3H][3H].[3H][3H].[3H][3H].[3H][3H].[3H][3H].[3H][3H].[3H][3H].[3H][3H].[3H][3H].[3H][3H].[3H][3H].[3H][3H].[3H][3H].[3H][3H].[3H][3H].[3H][3H].[3H][3H].[3H][3H].[3H][3H].[3H][3H]'}, {'CID': 160506544, 'IsomericSMILES': '[2HH].[2HH].[2HH].[2HH].[2HH].[2H][2H].[2H][2H].[2H][2H].[2H][2H].[2H][2H].[2H][2H].[2H][2H].[2H][2H].[2H][2H].[2H][2H].[2H][2H].[2H][2H]'}, {'CID': 160315322, 'IsomericSMILES': '[HH].[HH].[HH].[HH].[HH].[HH].[HH]'}, {'CID': 160315321, 'IsomericSMILES': '[HH].[2HH].[2HH].[2H][2H].[2H][2H].[2H][2H].[2H][2H]'}, {'CID': 160315320, 'IsomericSMILES': '[2HH].[2HH].[2H][2H].[2H][2H].[2H][2H].[2H][2H].[2H][2H]'}, {'CID': 160315319, 'IsomericSMILES': '[3HH].[3HH].[3HH].[3HH].[3HH].[3HH].[3HH]'}, {'CID': 160315318, 'IsomericSMILES': '[2HH].[2HH].[2HH].[2H][2H].[2H][2H].[2H][2H].[2H][2H]'}, {'CID': 160232736, 'IsomericSMILES': '[2HH].[3HH].[3HH]'}, {'CID': 160232734, 'IsomericSMILES': '[3H][3H].[3H][3H].[3H][3H]'}, {'CID': 160232733, 'IsomericSMILES': '[2HH].[2H][2H].[2H][2H]'}, {'CID': 160232732, 'IsomericSMILES': '[2HH].[2HH].[2H][2H]'}, {'CID': 160232730, 'IsomericSMILES': '[2HH].[2HH].[2HH]'}, {'CID': 159980139, 'IsomericSMILES': '[2HH].[2H][2H].[2H][2H].[2H][2H].[2H][2H].[2H][2H].[2H][2H].[2H][2H].[2H][2H]'}, {'CID': 159980138, 'IsomericSMILES': '[3HH].[3HH].[3HH].[3H][3H].[3H][3H].[3H][3H].[3H][3H].[3H][3H].[3H][3H]'}, {'CID': 159929881, 'IsomericSMILES': '[2HH].[2HH].[2HH].[2HH].[2HH].[2HH].[2HH].[2HH].[2HH].[2HH].[2HH].[2HH].[2HH].[2HH].[2H][2H].[2H][2H].[2H][2H].[2H][2H]'}, {'CID': 159399313, 'IsomericSMILES': '[3HH].[3HH].[3HH].[3HH].[3HH].[3HH].[3HH].[3HH].[3HH].[3HH].[3HH].[3HH].[3HH].[3HH].[3HH].[3HH].[3HH].[3HH].[3HH].[3HH].[3H][3H].[3H][3H].[3H][3H].[3H][3H].[3H][3H].[3H][3H].[3H][3H].[3H][3H].[3H][3H].[3H][3H].[3H][3H].[3H][3H].[3H][3H].[3H][3H].[3H][3H].[3H][3H].[3H][3H].[3H][3H].[3H][3H].[3H][3H].[3H][3H].[3H][3H].[3H][3H].[3H][3H].[3H][3H].[3H][3H].[3H][3H].[3H][3H].[3H][3H].[3H][3H].[3H][3H].[3H][3H].[3H][3H].[3H][3H].[3H][3H].[3H][3H].[3H][3H].[3H][3H].[3H][3H].[3H][3H].[3H][3H].[3H][3H].[3H][3H].[3H][3H].[3H][3H].[3H][3H].[3H][3H].[3H][3H].[3H][3H].[3H][3H].[3H][3H].[3H][3H].[3H][3H].[3H][3H].[3H][3H].[3H][3H].[3H][3H].[3H][3H].[3H][3H].[3H][3H].[3H][3H].[3H][3H].[3H][3H].[3H][3H].[3H][3H].[3H][3H].[3H][3H].[3H][3H].[3H][3H].[3H][3H].[3H][3H].[3H][3H].[3H][3H].[3H][3H].[3H][3H].[3H][3H].[3H][3H].[3H][3H].[3H][3H].[3H][3H].[3H][3H].[3H][3H].[3H][3H].[3H][3H].[3H][3H].[3H][3H].[3H][3H].[3H][3H].[3H][3H].[3H][3H].[3H][3H].[3H][3H].[3H][3H].[3H][3H].[3H][3H].[3H][3H].[3H][3H].[3H][3H].[3H][3H].[3H][3H].[3H][3H].[3H][3H].[3H][3H].[3H][3H].[3H][3H].[3H][3H].[3H][3H].[3H][3H].[3H][3H].[3H][3H].[3H][3H].[3H][3H].[3H][3H].[3H][3H].[3H][3H].[3H][3H].[3H][3H].[3H][3H].[3H][3H].[3H][3H].[3H][3H].[3H][3H].[3H][3H].[3H][3H].[3H][3H].[3H][3H].[3H][3H].[3H][3H].[3H][3H].[3H][3H].[3H][3H].[3H][3H].[3H][3H].[3H][3H].[3H][3H].[3H][3H].[3H][3H].[3H][3H].[3H][3H].[3H][3H].[3H][3H].[3H][3H].[3H][3H].[3H][3H].[3H][3H].[3H][3H].[3H][3H].[3H][3H].[3H][3H].[3H][3H].[3H][3H].[3H][3H].[3H][3H].[3H][3H].[3H][3H].[3H][3H].[3H][3H].[3H][3H].[3H][3H].[3H][3H].[3H][3H].[3H][3H].[3H][3H].[3H][3H].[3H][3H].[3H][3H].[3H][3H].[3H][3H].[3H][3H].[3H][3H].[3H][3H].[3H][3H].[3H][3H].[3H][3H].[3H][3H].[3H][3H].[3H][3H].[3H][3H].[3H][3H].[3H][3H].[3H][3H].[3H][3H].[3H][3H].[3H][3H].[3H][3H].[3H][3H].[3H][3H].[3H][3H].[3H][3H].[3H][3H].[3H][3H].[3H][3H].[3H][3H].[3H][3H].[3H][3H].[3H][3H].[3H][3H].[3H][3H].[3H][3H].[3H][3H].[3H][3H].[3H][3H].[3H][3H].[3H][3H].[3H][3H].[3H][3H].[3H][3H].[3H][3H].[3H][3H].[3H][3H].[3H][3H].[3H][3H].[3H][3H].[3H][3H].[3H][3H].[3H][3H].[3H][3H].[3H][3H].[3H][3H].[3H][3H].[3H][3H].[3H][3H].[3H][3H].[3H][3H].[3H][3H].[3H][3H].[3H][3H].[3H][3H].[3H][3H].[3H][3H].[3H][3H].[3H][3H].[3H][3H].[3H][3H].[3H][3H].[3H][3H].[3H][3H].[3H][3H].[3H][3H].[3H][3H].[3H][3H].[3H][3H].[3H][3H].[3H][3H].[3H][3H].[3H][3H].[3H][3H].[3H][3H].[3H][3H].[3H][3H].[3H][3H].[3H][3H].[3H][3H].[3H][3H].[3H][3H].[3H][3H].[3H][3H].[3H][3H].[3H][3H].[3H][3H].[3H][3H].[3H][3H].[3H][3H].[3H][3H].[3H][3H].[3H][3H].[3H][3H].[3H][3H].[3H][3H].[3H][3H].[3H][3H].[3H][3H].[3H][3H].[3H][3H].[3H][3H].[3H][3H].[3H][3H].[3H][3H].[3H][3H].[3H][3H].[3H][3H].[3H][3H].[3H][3H].[3H][3H].[3H][3H].[3H][3H].[3H][3H].[3H][3H].[3H][3H].[3H][3H].[3H][3H].[3H][3H].[3H][3H].[3H][3H].[3H][3H].[3H][3H].[3H][3H].[3H][3H].[3H][3H].[3H][3H].[3H][3H].[3H][3H].[3H][3H].[3H][3H].[3H][3H].[3H][3H].[3H][3H].[3H][3H].[3H][3H].[3H][3H].[3H][3H].[3H][3H].[3H][3H].[3H][3H].[3H][3H].[3H][3H].[3H][3H].[3H][3H].[3H][3H].[3H][3H].[3H][3H].[3H][3H].[3H][3H].[3H][3H].[3H][3H].[3H][3H].[3H][3H].[3H][3H].[3H][3H].[3H][3H].[3H][3H].[3H][3H].[3H][3H].[3H][3H].[3H][3H].[3H][3H].[3H][3H].[3H][3H].[3H][3H].[3H][3H].[3H][3H].[3H][3H].[3H][3H].[3H][3H].[3H][3H].[3H][3H].[3H][3H].[3H][3H].[3H][3H].[3H][3H].[3H][3H].[3H][3H].[3H][3H].[3H][3H].[3H][3H].[3H][3H].[3H][3H].[3H][3H].[3H][3H].[3H][3H].[3H][3H].[3H][3H].[3H][3H].[3H][3H].[3H][3H].[3H][3H].[3H][3H].[3H][3H].[3H][3H].[3H][3H].[3H][3H].[3H][3H].[3H][3H].[3H][3H].[3H][3H].[3H][3H].[3H][3H].[3H][3H].[3H][3H].[3H][3H].[3H][3H].[3H][3H].[3H][3H].[3H][3H].[3H][3H].[3H][3H].[3H][3H].[3H][3H].[3H][3H].[3H][3H].[3H][3H].[3H][3H].[3H][3H].[3H][3H].[3H][3H].[3H][3H].[3H][3H].[3H][3H].[3H][3H].[3H][3H]'}, {'CID': 159167674, 'IsomericSMILES': '[2H-].[2H+]'}, {'CID': 159071385, 'IsomericSMILES': '[2H][3H].[3H][3H].[3H][3H].[3H][3H].[3H][3H].[3H][3H].[3H][3H].[3H][3H].[3H][3H].[3H][3H].[3H][3H].[3H][3H].[3H][3H].[3H][3H].[3H][3H].[3H][3H].[3H][3H].[3H][3H].[3H][3H].[3H][3H].[3H][3H].[3H][3H].[3H][3H].[3H][3H]'}, {'CID': 159026005, 'IsomericSMILES': '[H+].[CH3+]'}, {'CID': 158829073, 'IsomericSMILES': '[HH].[HH].[HH].[HH].[HH].[HH].[HH].[HH].[HH].[HH].[HH].[HH].[HH].[HH].[HH].[HH].[HH].[HH].[HH].[HH].[HH].[HH].[HH].[HH].[HH].[HH].[HH].[HH].[HH].[HH].[HH].[HH].[HH].[HH].[HH].[HH].[HH].[HH].[HH].[HH].[HH].[HH]'}, {'CID': 158829072, 'IsomericSMILES': '[2HH].[2HH].[2HH].[2HH].[2HH].[2HH].[2H][2H].[2H][2H].[2H][2H].[2H][2H].[2H][2H].[2H][2H].[2H][2H].[2H][2H].[2H][2H].[2H][2H].[2H][2H].[2H][2H].[2H][2H].[2H][2H].[2H][2H].[2H][2H].[2H][2H].[2H][2H].[2H][2H].[2H][2H].[2H][2H].[2H][2H].[2H][2H].[2H][2H].[2H][2H].[2H][2H].[2H][2H].[2H][2H].[2H][2H].[2H][2H].[2H][2H].[2H][2H].[2H][2H].[2H][2H].[2H][2H].[2H][2H]'}, {'CID': 158806609, 'IsomericSMILES': '[3HH].[3HH].[3H][3H].[3H][3H]'}, {'CID': 158806608, 'IsomericSMILES': '[2HH].[2H][2H].[2H][2H].[2H][2H]'}, {'CID': 158806607, 'IsomericSMILES': '[3HH].[3H][3H].[3H][3H].[3H][3H]'}, {'CID': 158806606, 'IsomericSMILES': '[2HH].[2HH].[2H][2H].[2H][2H]'}, {'CID': 158806605, 'IsomericSMILES': '[2H][2H].[2H][2H].[2H][2H].[2H][2H]'}, {'CID': 158704465, 'IsomericSMILES': '[3HH].[3HH].[3HH].[3HH].[3HH].[3HH].[3HH].[3HH].[3HH].[3HH].[3HH].[3HH].[3HH].[3HH].[3HH].[3HH].[3HH].[3HH].[3HH].[3HH].[3HH].[3HH].[3HH].[3HH].[3HH].[3HH].[3H][3H].[3H][3H].[3H][3H].[3H][3H].[3H][3H].[3H][3H].[3H][3H].[3H][3H].[3H][3H].[3H][3H].[3H][3H].[3H][3H].[3H][3H].[3H][3H].[3H][3H].[3H][3H].[3H][3H].[3H][3H].[3H][3H].[3H][3H].[3H][3H].[3H][3H].[3H][3H].[3H][3H].[3H][3H].[3H][3H].[3H][3H].[3H][3H].[3H][3H].[3H][3H].[3H][3H].[3H][3H].[3H][3H].[3H][3H].[3H][3H].[3H][3H].[3H][3H].[3H][3H].[3H][3H].[3H][3H].[3H][3H].[3H][3H].[3H][3H].[3H][3H].[3H][3H].[3H][3H].[3H][3H].[3H][3H].[3H][3H].[3H][3H].[3H][3H].[3H][3H]'}, {'CID': 158550835, 'IsomericSMILES': '[2HH].[2H][2H]'}, {'CID': 158550832, 'IsomericSMILES': '[2H][2H].[2H][2H]'}, {'CID': 158550831, 'IsomericSMILES': '[3HH].[2H][3H]'}, {'CID': 158550830, 'IsomericSMILES': '[3HH].[3H][3H]'}, {'CID': 158550829, 'IsomericSMILES': '[3H][3H].[3H][3H]'}, {'CID': 158550828, 'IsomericSMILES': '[HH].[3HH]'}, {'CID': 158550827, 'IsomericSMILES': '[2H][3H].[2H][3H]'}, {'CID': 158506705, 'IsomericSMILES': '[2HH].[2H][2H].[2H][2H].[2H][2H].[2H][2H].[2H][2H].[2H][2H].[2H][2H]'}, {'CID': 158506704, 'IsomericSMILES': '[3HH].[3HH].[3HH].[3HH].[3HH].[3HH].[3HH].[3HH]'}, {'CID': 158506703, 'IsomericSMILES': '[HH].[HH].[2HH].[2HH].[2HH].[2H][2H].[2H][2H].[2H][2H]'}, {'CID': 158264078, 'IsomericSMILES': '[HH].[HH].[HH].[HH].[HH].[HH].[HH].[HH].[HH].[HH].[HH].[HH]'}, {'CID': 158264077, 'IsomericSMILES': '[2HH].[2HH].[2HH].[2H][2H].[2H][2H].[2H][2H].[2H][2H].[2H][2H].[2H][2H].[2H][2H].[2H][2H].[2H][2H]'}, {'CID': 158264076, 'IsomericSMILES': '[3HH].[3HH].[3HH].[3H][3H].[3H][3H].[3H][3H].[3H][3H].[3H][3H].[3H][3H].[3H][3H].[3H][3H].[3H][3H]'}, {'CID': 158118147, 'IsomericSMILES': '[H-].[H-].[H-]'}, {'CID': 158094390, 'IsomericSMILES': '[2HH].[2HH].[2HH].[2H][2H].[2H][2H].[2H][2H].[2H][2H].[2H][2H].[2H][2H].[2H][2H].[2H][2H].[2H][2H].[2H][2H].[2H][2H].[2H][2H].[2H][2H].[2H][2H].[2H][2H].[2H][2H].[2H][2H].[2H][2H].[2H][2H].[2H][2H].[2H][2H].[2H][2H].[2H][2H].[2H][2H].[2H][2H].[2H][2H].[2H][2H]'}, {'CID': 157954370, 'IsomericSMILES': '[2HH].[2HH].[2HH].[2HH].[2HH].[2HH].[2HH].[2HH].[2HH].[2HH].[2H][2H].[2H][2H].[2H][2H].[2H][2H].[2H][2H].[2H][2H].[2H][2H].[2H][2H].[2H][2H].[2H][2H].[2H][2H].[2H][2H].[2H][2H].[2H][2H].[2H][2H].[2H][2H].[2H][2H].[2H][2H].[2H][2H].[2H][2H].[2H][2H].[2H][2H].[2H][2H].[2H][2H]'}, {'CID': 157907712, 'IsomericSMILES': '[HH].[2H][2H].[2H][2H].[2H][2H].[2H][2H]'}, {'CID': 157907711, 'IsomericSMILES': '[2HH].[2HH].[2HH].[2HH].[2HH]'}, {'CID': 157907710, 'IsomericSMILES': '[2HH].[2H][2H].[2H][2H].[2H][2H].[2H][2H]'}, {'CID': 157776676, 'IsomericSMILES': '[HH].[HH].[HH].[HH].[HH].[HH].[HH].[HH].[HH].[HH]'}, {'CID': 157776675, 'IsomericSMILES': '[2HH].[2HH].[2H][2H].[2H][2H].[2H][2H].[2H][2H].[2H][2H].[2H][2H].[2H][2H].[2H][2H]'}, {'CID': 157776674, 'IsomericSMILES': '[3HH].[3HH].[3H][3H].[3H][3H].[3H][3H].[3H][3H].[3H][3H].[3H][3H].[3H][3H].[3H][3H]'}, {'CID': 157685241, 'IsomericSMILES': '[2HH].[2HH].[2HH].[2HH].[2HH].[2HH].[2HH].[2HH].[2HH].[2H-].[2H][2H].[2H][2H].[2H][2H].[2H][2H].[2H][2H].[2H][2H].[2H][2H].[2H][2H].[2H][2H].[2H][2H].[2H][2H].[2H][2H].[2H][2H].[2H][2H].[2H][2H].[2H][2H].[2H][2H].[2H][2H].[2H][2H].[2H][2H].[2H][2H].[2H][2H].[2H][2H].[2H][2H].[2H][2H].[2H][2H].[2H][2H].[2H][2H].[2H][2H].[2H][2H].[2H][2H].[2H][2H].[2H][2H].[2H][2H].[2H][2H].[2H][2H].[2H][2H].[2H][2H].[2H][2H].[2H][2H].[2H][2H].[2H][2H].[2H][2H].[2H][2H].[2H][2H].[2H][2H].[2H][2H].[2H][2H].[2H][2H].[2H][2H].[2H][2H].[2H][2H].[2H][2H].[2H][2H].[2H][2H].[2H][2H].[2H][2H].[2H][2H].[2H][2H].[2H][2H].[2H][2H].[2H][2H].[2H][2H].[2H][2H].[2H][2H].[2H][2H].[2H][2H].[2H][2H].[2H][2H].[2H][2H].[2H][2H].[2H][2H].[2H][2H].[2H][2H].[2H][2H].[2H][2H].[2H][2H].[2H][2H].[2H][2H].[2H][2H].[2H][2H].[2H][2H].[2H][2H].[2H][2H].[2H][2H].[2H][2H].[2H][2H].[2H][2H].[2H][2H].[2H][2H].[2H][2H].[2H][2H].[2H][2H].[2H][2H].[2H][2H].[2H][2H].[2H][2H].[2H][2H].[2H][2H].[2H][2H].[2H][2H].[2H][2H].[2H][2H].[2H][2H].[2H][2H].[2H][2H].[2H][2H].[2H][2H].[2H][2H].[2H][2H].[2H][2H].[2H][2H].[2H][2H].[2H][2H].[2H][2H].[2H][2H].[2H][2H].[2H][2H].[2H][2H].[2H][2H].[2H][2H].[2H][2H].[2H][2H].[2H][2H].[2H][2H].[2H][2H].[2H][2H].[2H][2H].[2H][2H].[2H][2H].[2H][2H].[2H][2H].[2H][2H].[2H][2H].[2H][2H].[2H][2H].[2H][2H].[2H][2H].[2H][2H].[2H][2H].[2H][2H].[2H][2H].[2H][2H].[2H][2H].[2H][2H].[2H][2H].[2H][2H].[2H][2H].[2H][2H].[2H][2H].[2H][2H].[2H][2H].[2H][2H].[2H][2H].[2H][2H].[2H][2H].[2H][2H].[2H][2H].[2H][2H].[2H][2H].[2H][2H].[2H][2H].[2H][2H].[2H][2H].[2H][2H].[2H][2H].[2H][2H].[2H][2H].[2H][2H].[2H][2H].[2H][2H].[2H][2H].[2H][2H].[2H][2H].[2H][2H].[2H][2H].[2H][2H].[2H][2H].[2H][2H].[2H][2H].[2H][2H].[2H][2H].[2H][2H].[2H][2H].[2H][2H].[2H][2H].[2H][2H].[2H][2H].[2H][2H].[2H][2H].[2H][2H].[2H][2H].[2H][2H].[2H][2H].[2H][2H].[2H][2H].[2H][2H].[2H][2H].[2H][2H].[2H][2H].[2H][2H].[2H][2H].[2H][2H].[2H][2H].[2H][2H].[2H][2H].[2H][2H].[2H][2H].[2H][2H].[2H][2H].[2H][2H].[2H][2H].[2H][2H].[2H][2H].[2H][2H].[2H][2H].[2H][2H].[2H][2H].[2H][2H].[2H][2H].[2H][2H].[2H][2H].[2H][2H].[2H][2H].[2H][2H].[2H][2H].[2H][2H].[2H][2H].[2H][2H].[2H][2H].[2H][2H].[2H][2H].[2H][2H].[2H][2H].[2H][2H].[2H][2H].[2H][2H].[2H][2H].[2H][2H].[2H][2H].[2H][2H].[2H][2H].[2H][2H].[2H][2H].[2H][2H].[2H][2H].[2H][2H].[2H][2H].[2H][2H].[2H][2H].[2H][2H].[2H][2H].[2H][2H].[2H][2H].[2H][2H].[2H][2H].[2H][2H].[2H][2H].[2H][2H].[2H][2H].[2H][2H].[2H][2H].[2H][2H].[2H][2H].[2H][2H].[2H][2H].[2H][2H].[2H][2H].[2H][2H].[2H][2H].[2H][2H].[2H][2H].[2H][2H].[2H][2H].[2H][2H].[2H][2H].[2H][2H].[2H][2H].[2H][2H].[2H][2H].[2H][2H].[2H][2H].[2H][2H].[2H][2H].[2H][2H].[2H][2H].[2H][2H].[2H][2H].[2H][2H].[2H][2H].[2H][2H].[2H][2H].[2H][2H].[2H][2H].[2H][2H].[2H][2H].[2H][2H].[2H][2H].[2H][2H].[2H][2H].[2H][2H].[2H][2H].[2H][2H].[2H][2H].[2H][2H].[2H][2H].[2H][2H].[2H][2H].[2H][2H].[2H][2H].[2H][2H].[2H][2H].[2H][2H].[2H][2H].[2H][2H].[2H][2H].[2H][2H].[2H][2H].[2H][2H].[2H][2H].[2H][2H].[2H][2H].[2H][2H].[2H][2H].[2H][2H].[2H][2H].[2H][2H].[2H][2H].[2H][2H].[2H][2H].[2H][2H].[2H][2H].[2H][2H].[2H][2H].[2H][2H].[2H][2H].[2H][2H].[2H][2H].[2H][2H].[2H][2H].[2H][2H].[2H][2H].[2H][2H].[2H][2H].[2H][2H].[2H][2H].[2H][2H].[2H][2H].[2H][2H].[2H][2H].[2H][2H].[2H][2H].[2H][2H].[2H][2H].[2H][2H].[2H][2H].[2H][2H].[2H][2H].[2H][2H].[2H][2H].[2H][2H].[2H][2H].[2H][2H].[2H][2H].[2H][2H].[2H][2H].[2H][2H].[2H][2H].[2H][2H].[2H][2H].[2H][2H].[2H][2H].[2H][2H].[2H][2H].[2H][2H].[2H][2H].[2H][2H].[2H][2H].[2H][2H].[2H][2H].[2H][2H].[2H][2H].[2H][2H].[2H][2H].[2H][2H].[2H][2H].[2H][2H].[2H][2H].[2H][2H].[2H][2H].[2H][2H].[2H][2H].[2H][2H].[2H][2H].[2H][2H].[2H][2H].[2H][2H].[2H][2H].[2H][2H].[2H][2H]'}, {'CID': 157679702, 'IsomericSMILES': '[H-].[2H-]'}, {'CID': 157679700, 'IsomericSMILES': '[2H-].[2H-]'}, {'CID': 157679699, 'IsomericSMILES': '[2H-].[2H-].[2H+].[2H+]'}, {'CID': 157622166, 'IsomericSMILES': '[2HH].[2HH].[2HH].[2HH].[2HH].[2HH]'}, {'CID': 157622165, 'IsomericSMILES': '[2HH].[2HH].[2H][2H].[2H][2H].[2H][2H].[2H][2H]'}, {'CID': 157622164, 'IsomericSMILES': '[3HH].[3HH].[3H][3H].[3H][3H].[3H][3H].[3H][3H]'}, {'CID': 157622163, 'IsomericSMILES': '[2HH].[2H][2H].[2H][2H].[2H][2H].[2H][2H].[2H][2H]'}, {'CID': 157554987, 'IsomericSMILES': '[HH].[HH].[HH].[HH].[HH].[HH].[HH].[HH].[HH].[HH].[HH].[HH].[HH].[HH].[HH].[HH].[HH].[HH].[HH].[HH].[HH].[HH].[HH].[HH].[HH].[HH].[HH].[HH].[HH].[HH].[HH].[HH].[HH].[HH].[HH].[HH].[HH].[HH].[HH].[HH].[HH].[HH].[HH].[HH].[HH].[HH].[HH].[HH].[HH].[HH].[HH].[HH].[HH].[HH].[HH].[HH].[HH].[HH].[HH].[HH].[HH].[HH].[HH]'}, {'CID': 157548016, 'IsomericSMILES': '[2HH].[2HH].[2HH].[2HH].[2HH].[2HH].[2HH].[2H-].[2H][2H].[2H][2H].[2H][2H].[2H][2H].[2H][2H].[2H][2H].[2H][2H].[2H][2H].[2H][2H].[2H][2H].[2H][2H].[2H][2H].[2H][2H].[2H][2H].[2H][2H].[2H][2H].[2H][2H].[2H][2H].[2H][2H].[2H][2H].[2H][2H].[2H][2H].[2H][2H].[2H][2H].[2H][2H].[2H][2H].[2H][2H].[2H][2H].[2H][2H].[2H][2H].[2H][2H].[2H][2H].[2H][2H].[2H][2H].[2H][2H].[2H][2H].[2H][2H].[2H][2H].[2H][2H].[2H][2H].[2H][2H].[2H][2H].[2H][2H].[2H][2H].[2H][2H].[2H][2H].[2H][2H].[2H][2H].[2H][2H].[2H][2H].[2H][2H].[2H][2H].[2H][2H].[2H][2H].[2H][2H].[2H][2H].[2H][2H].[2H][2H].[2H][2H].[2H][2H].[2H][2H].[2H][2H].[2H][2H].[2H][2H].[2H][2H].[2H][2H].[2H][2H].[2H][2H].[2H][2H].[2H][2H].[2H][2H].[2H][2H].[2H][2H].[2H][2H].[2H][2H].[2H][2H].[2H][2H].[2H][2H].[2H][2H].[2H][2H].[2H][2H].[2H][2H].[2H][2H].[2H][2H].[2H][2H].[2H][2H].[2H][2H].[2H][2H].[2H][2H].[2H][2H].[2H][2H].[2H][2H].[2H][2H].[2H][2H].[2H][2H].[2H][2H].[2H][2H].[2H][2H].[2H][2H].[2H][2H].[2H][2H].[2H][2H].[2H][2H].[2H][2H].[2H][2H].[2H][2H].[2H][2H].[2H][2H].[2H][2H].[2H][2H].[2H][2H].[2H][2H].[2H][2H].[2H][2H].[2H][2H].[2H][2H].[2H][2H].[2H][2H].[2H][2H].[2H][2H].[2H][2H].[2H][2H].[2H][2H].[2H][2H].[2H][2H].[2H][2H].[2H][2H].[2H][2H].[2H][2H].[2H][2H].[2H][2H].[2H][2H].[2H][2H].[2H][2H].[2H][2H].[2H][2H].[2H][2H].[2H][2H].[2H][2H].[2H][2H].[2H][2H].[2H][2H].[2H][2H].[2H][2H].[2H][2H].[2H][2H].[2H][2H].[2H][2H].[2H][2H].[2H][2H].[2H][2H].[2H][2H].[2H][2H].[2H][2H].[2H][2H].[2H][2H].[2H][2H].[2H][2H].[2H][2H].[2H][2H].[2H][2H].[2H][2H].[2H][2H].[2H][2H].[2H][2H].[2H][2H].[2H][2H].[2H][2H].[2H][2H].[2H][2H].[2H][2H].[2H][2H].[2H][2H].[2H][2H].[2H][2H].[2H][2H].[2H][2H].[2H][2H].[2H][2H].[2H][2H].[2H][2H].[2H][2H].[2H][2H].[2H][2H].[2H][2H].[2H][2H].[2H][2H].[2H][2H].[2H][2H].[2H][2H].[2H][2H].[2H][2H].[2H][2H].[2H][2H].[2H][2H].[2H][2H].[2H][2H].[2H][2H].[2H][2H].[2H][2H].[2H][2H].[2H][2H].[2H][2H].[2H][2H].[2H][2H].[2H][2H].[2H][2H].[2H][2H].[2H][2H].[2H][2H].[2H][2H].[2H][2H].[2H][2H].[2H][2H].[2H][2H].[2H][2H].[2H][2H].[2H][2H].[2H][2H].[2H][2H].[2H][2H].[2H][2H].[2H][2H].[2H][2H].[2H][2H].[2H][2H].[2H][2H].[2H][2H].[2H][2H].[2H][2H].[2H][2H].[2H][2H].[2H][2H].[2H][2H].[2H][2H].[2H][2H].[2H][2H].[2H][2H].[2H][2H].[2H][2H].[2H][2H].[2H][2H].[2H][2H].[2H][2H].[2H][2H].[2H][2H].[2H][2H].[2H][2H].[2H][2H].[2H][2H].[2H][2H].[2H][2H].[2H][2H].[2H][2H].[2H][2H].[2H][2H].[2H][2H].[2H][2H].[2H][2H].[2H][2H].[2H][2H].[2H][2H].[2H][2H].[2H][2H].[2H][2H].[2H][2H].[2H][2H].[2H][2H].[2H][2H].[2H][2H].[2H][2H].[2H][2H].[2H][2H].[2H][2H].[2H][2H].[2H][2H].[2H][2H].[2H][2H].[2H][2H].[2H][2H].[2H][2H].[2H][2H].[2H][2H].[2H][2H].[2H][2H].[2H][2H].[2H][2H].[2H][2H].[2H][2H].[2H][2H].[2H][2H].[2H][2H].[2H][2H].[2H][2H].[2H][2H].[2H][2H].[2H][2H].[2H][2H].[2H][2H].[2H][2H].[2H][2H].[2H][2H].[2H][2H].[2H][2H].[2H][2H].[2H][2H].[2H][2H].[2H][2H].[2H][2H].[2H][2H].[2H][2H].[2H][2H].[2H][2H].[2H][2H].[2H][2H].[2H][2H].[2H][2H].[2H][2H].[2H][2H].[2H][2H].[2H][2H]'}, {'CID': 157468839, 'IsomericSMILES': '[3HH].[3HH].[3HH].[3HH].[3H][3H].[3H][3H].[3H][3H].[3H][3H].[3H][3H].[3H][3H].[3H][3H].[3H][3H].[3H][3H].[3H][3H].[3H][3H].[3H][3H]'}, {'CID': 157468838, 'IsomericSMILES': '[HH].[HH].[HH].[HH].[HH].[HH].[HH].[HH].[HH].[HH].[HH].[HH].[HH].[HH].[HH].[HH]'}, {'CID': 157181098, 'IsomericSMILES': '[3HH].[3H][3H].[3H][3H].[3H][3H].[3H][3H].[3H][3H].[3H][3H].[3H][3H].[3H][3H].[3H][3H].[3H][3H].[3H][3H].[3H][3H].[3H][3H].[3H][3H].[3H][3H].[3H][3H].[3H][3H].[3H][3H].[3H][3H].[3H][3H]'}, {'CID': 157117784, 'IsomericSMILES': '[H-].C'}, {'CID': 157069108, 'IsomericSMILES': '[HH].[HH].[HH].[HH].[HH].[HH].[HH].[HH].[HH].[HH].[HH].[HH].[HH].[HH].[HH].[HH].[HH].[HH].[HH].[HH].[HH].[HH].[HH].[HH].[HH].[HH].[HH].[HH].[HH].[HH].[HH].[HH].[HH].[HH].[HH].[HH].[HH].[HH].[HH].[HH].[HH].[HH].[HH].[HH].[HH].[HH].[HH].[HH].[HH].[HH].[HH].[HH].[HH].[HH].[HH].[HH].[HH].[HH].[HH].[HH].[HH].[HH].[HH].[HH]'}, {'CID': 153297191, 'IsomericSMILES': '[CH2-][CH2]'}, {'CID': 139212582, 'IsomericSMILES': '[HH].[HH].[HH].[HH]'}, {'CID': 135971918, 'IsomericSMILES': '[CH2+]'}, {'CID': 135473697, 'IsomericSMILES': '[CH+]'}, {'CID': 101066466, 'IsomericSMILES': 'C[C]'}, {'CID': 60127937, 'IsomericSMILES': '[1H]CC'}, {'CID': 60024402, 'IsomericSMILES': '[11CH3-]'}, {'CID': 60024397, 'IsomericSMILES': '[13CH3-]'}, {'CID': 59925419, 'IsomericSMILES': '[1H]C'}, {'CID': 59905439, 'IsomericSMILES': 'C[C-]'}, {'CID': 59904976, 'IsomericSMILES': '[2H][CH2-]'}, {'CID': 59904965, 'IsomericSMILES': '[2H]C([3H])[3H]'}, {'CID': 59901542, 'IsomericSMILES': '[2H]C[3H]'}, {'CID': 59898986, 'IsomericSMILES': '[2H][CH2+]'}, {'CID': 59510790, 'IsomericSMILES': '[CH2+][CH]'}, {'CID': 59256376, 'IsomericSMILES': '[2H][CH]'}, {'CID': 59045420, 'IsomericSMILES': '[3H]CC([3H])[3H]'}, {'CID': 59040078, 'IsomericSMILES': '[CH2-]'}, {'CID': 58965162, 'IsomericSMILES': '[22CH4]'}, {'CID': 58939904, 'IsomericSMILES': '[3H]C([3H])([3H])C([3H])([3H])[3H]'}, {'CID': 58855663, 'IsomericSMILES': '[2H][12CH]([2H])[2H]'}, {'CID': 58811190, 'IsomericSMILES': '[3H][CH2-]'}, {'CID': 58811189, 'IsomericSMILES': '[3H][CH2+]'}, {'CID': 58746192, 'IsomericSMILES': '[CH-]'}, {'CID': 58452229, 'IsomericSMILES': '[3H][CH]'}, {'CID': 58185150, 'IsomericSMILES': 'C[11CH3]'}, {'CID': 58098237, 'IsomericSMILES': '[2H]C([2H])[3H]'}, {'CID': 58066924, 'IsomericSMILES': '[2H][13C]([2H])([2H])C'}, {'CID': 58066903, 'IsomericSMILES': '[2H][12C]([2H])([2H])C'}, {'CID': 58066891, 'IsomericSMILES': '[2H][13CH]([2H])C'}, {'CID': 58066889, 'IsomericSMILES': '[2H][12CH]([2H])C'}, {'CID': 58066888, 'IsomericSMILES': '[2H][12CH2]C'}, {'CID': 58013676, 'IsomericSMILES': '[11CH3+]'}, {'CID': 58004487, 'IsomericSMILES': '[3H]C[CH]'}, {'CID': 57873937, 'IsomericSMILES': '[CH2-][CH]'}, {'CID': 57652984, 'IsomericSMILES': '[2H][CH-]C'}, {'CID': 57563733, 'IsomericSMILES': '[3H]C([3H])C'}, {'CID': 57518777, 'IsomericSMILES': '[HH].[H+]'}, {'CID': 22844667, 'IsomericSMILES': '[3H]CC'}, {'CID': 20639618, 'IsomericSMILES': '[3H]C[3H]'}, {'CID': 18362091, 'IsomericSMILES': '[H+].[H+].[H+]'}, {'CID': 15178913, 'IsomericSMILES': '[HH].[HH]'}, {'CID': 13000487, 'IsomericSMILES': '[3H]C([3H])[3H]'}, {'CID': 12351695, 'IsomericSMILES': '[2H][C+]([2H])[2H]'}, {'CID': 12244987, 'IsomericSMILES': '[2H]C([3H])C'}, {'CID': 12244986, 'IsomericSMILES': 'C[14CH3]'}, {'CID': 12242918, 'IsomericSMILES': '[3H]C([3H])([3H])[3H]'}, {'CID': 12242917, 'IsomericSMILES': '[2H][13CH]([2H])[2H]'}, {'CID': 10949861, 'IsomericSMILES': '[2H][13CH3]'}, {'CID': 6914290, 'IsomericSMILES': '[2H][3H]'}, {'CID': 6914131, 'IsomericSMILES': '[2H][C]([2H])C'}, {'CID': 5465095, 'IsomericSMILES': 'C[CH]'}, {'CID': 3421618, 'IsomericSMILES': 'C[CH2-]'}, {'CID': 6914124, 'IsomericSMILES': '[2H][C][2H]'}, {'CID': 10862733, 'IsomericSMILES': '[2H][13CH2][2H]'}, {'CID': 11635948, 'IsomericSMILES': '[8CH4]'}, {'CID': 12438645, 'IsomericSMILES': '[2H][CH]C'}, {'CID': 12438647, 'IsomericSMILES': '[2H]C([2H])[C]([2H])[2H]'}, {'CID': 13595834, 'IsomericSMILES': '[2H][C+]([2H])C([2H])([2H])[2H]'}, {'CID': 18330992, 'IsomericSMILES': '[H+].[H+].C'}, {'CID': 18681220, 'IsomericSMILES': '[H+].[H+].[H+].[H+]'}, {'CID': 18681221, 'IsomericSMILES': '[H+].[H+].[H+].[H+].[H+]'}, {'CID': 21881157, 'IsomericSMILES': '[H+].C'}, {'CID': 24996455, 'IsomericSMILES': '[12CH3][12CH3]'}, {'CID': 44623071, 'IsomericSMILES': '[3H][13CH3]'}, {'CID': 100921595, 'IsomericSMILES': '[2H][C]([2H])C([2H])([2H])[2H]'}, {'CID': 101040783, 'IsomericSMILES': '[2H][C-]([2H])[2H]'}, {'CID': 101105060, 'IsomericSMILES': '[2H]CC([2H])[2H]'}, {'CID': 101111159, 'IsomericSMILES': '[2H][CH+][2H]'}, {'CID': 101192347, 'IsomericSMILES': '[13CH3+]'}, {'CID': 101333579, 'IsomericSMILES': '[CH2][CH2+]'}, {'CID': 101333580, 'IsomericSMILES': '[2H][C]([2H])[C+]([2H])[2H]'}, {'CID': 101333587, 'IsomericSMILES': '[2H]C([2H])[C+]([2H])[2H]'}, {'CID': 101389038, 'IsomericSMILES': '[2H][13CH2]C'}, {'CID': 101389039, 'IsomericSMILES': '[2H]C[13CH3]'}, {'CID': 101396784, 'IsomericSMILES': '[2H][13CH2-]'}, {'CID': 101448790, 'IsomericSMILES': '[2H]C[CH+][2H]'}, {'CID': 101703762, 'IsomericSMILES': '[2H][13C+]([2H])[2H]'}, {'CID': 101988841, 'IsomericSMILES': '[2H][12CH3]'}, {'CID': 158053384, 'IsomericSMILES': '[2H]CC[3H]'}, {'CID': 158625708, 'IsomericSMILES': '[1H][13CH3]'}, {'CID': 162236685, 'IsomericSMILES': '[9CH4]'}]\n"
     ]
    }
   ],
   "source": [
    "# Testing PubChemPy database\n",
    "df1 = pcp.get_compounds('C20H41Br', 'formula', as_dataframe=True)    \n",
    "df2 = pcp.get_substances([1, 2, 3, 4], as_dataframe=True)\n",
    "p = pcp.get_properties('IsomericSMILES', 'CC', 'smiles', searchtype='superstructure')\n",
    "print(p)"
   ]
  },
  {
   "cell_type": "code",
   "execution_count": 73,
   "metadata": {},
   "outputs": [],
   "source": [
    "# Have cell that checks that atom% always adds to 100. Throw error if not\n",
    "\n",
    "# Have cell that is able to subtract spectrum from reference \n",
    "\n",
    "# Figure out best database to use. PubChem? https://pubchempy.readthedocs.io/en/latest/\n",
    "# Pull out compounds that matter from database and create sub-database"
   ]
  }
 ],
 "metadata": {
  "kernelspec": {
   "display_name": "Python 3",
   "language": "python",
   "name": "python3"
  },
  "language_info": {
   "codemirror_mode": {
    "name": "ipython",
    "version": 3
   },
   "file_extension": ".py",
   "mimetype": "text/x-python",
   "name": "python",
   "nbconvert_exporter": "python",
   "pygments_lexer": "ipython3",
   "version": "3.7.7"
  }
 },
 "nbformat": 4,
 "nbformat_minor": 4
}
